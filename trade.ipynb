{
 "cells": [
  {
   "cell_type": "code",
   "execution_count": 1,
   "id": "17917845-43ce-4796-b0c8-026e10a9f2fb",
   "metadata": {
    "tags": []
   },
   "outputs": [],
   "source": [
    "import os\n",
    "os.environ[\"PYARROW_IGNORE_TIMEZONE\"]='1'\n",
    "\n",
    "from pyspark.sql import SparkSession\n",
    "spark = (SparkSession\n",
    "    .builder\n",
    "    .master(\"local\")\n",
    "    .appName(\"trade\")\n",
    "    .getOrCreate()\n",
    ")\n",
    "\n",
    "import pyspark.sql.functions as F"
   ]
  },
  {
   "cell_type": "code",
   "execution_count": 2,
   "id": "19875721-d1a8-471e-9c43-e287d38e4ca5",
   "metadata": {
    "tags": []
   },
   "outputs": [
    {
     "name": "stdout",
     "output_type": "stream",
     "text": [
      "root\n",
      " |-- <TICKER>: string (nullable = true)\n",
      " |-- <PER>: integer (nullable = true)\n",
      " |-- <DATE>: integer (nullable = true)\n",
      " |-- <TIME>: integer (nullable = true)\n",
      " |-- <OPEN>: double (nullable = true)\n",
      " |-- <HIGH>: double (nullable = true)\n",
      " |-- <LOW>: double (nullable = true)\n",
      " |-- <CLOSE>: double (nullable = true)\n",
      " |-- <VOL>: integer (nullable = true)\n",
      "\n"
     ]
    }
   ],
   "source": [
    "data22 = spark.read.csv(\".//archive/minute_220301_230228.csv\", sep=';', encoding=\"UTF-8\", header=True, inferSchema=True)\n",
    "data22.printSchema()"
   ]
  },
  {
   "cell_type": "code",
   "execution_count": 3,
   "id": "edf96382-85fd-4c2c-b9fe-aa19bcd839af",
   "metadata": {
    "tags": []
   },
   "outputs": [
    {
     "name": "stdout",
     "output_type": "stream",
     "text": [
      "root\n",
      " |-- <DATE>: integer (nullable = true)\n",
      " |-- <TIME>: integer (nullable = true)\n",
      " |-- <OPEN>: double (nullable = true)\n",
      " |-- <HIGH>: double (nullable = true)\n",
      " |-- <LOW>: double (nullable = true)\n",
      " |-- <CLOSE>: double (nullable = true)\n",
      " |-- <VOL>: integer (nullable = true)\n",
      "\n"
     ]
    }
   ],
   "source": [
    "data22 = data22.drop('<PER>', '<TICKER>')\n",
    "data22.printSchema()"
   ]
  },
  {
   "cell_type": "code",
   "execution_count": 4,
   "id": "ff1f552e-1d3e-4990-9cd3-9ce76894450e",
   "metadata": {
    "tags": []
   },
   "outputs": [
    {
     "name": "stdout",
     "output_type": "stream",
     "text": [
      "+--------+------+-------+-------+-------+-------+-------+\n",
      "|  <DATE>|<TIME>| <OPEN>| <HIGH>|  <LOW>|<CLOSE>|  <VOL>|\n",
      "+--------+------+-------+-------+-------+-------+-------+\n",
      "|20220103| 70100|74.6775|74.8375|74.6625|  74.79|2429000|\n",
      "|20220103| 70200|  74.81|  74.81| 74.755|74.7875| 876000|\n",
      "|20220103| 70300|74.7875| 74.875|74.7875| 74.875|1592000|\n",
      "|20220103| 70400|74.8475|74.8625|74.8425|74.8475|1208000|\n",
      "|20220103| 70500|74.8425| 74.875|74.8275|74.8575| 426000|\n",
      "|20220103| 70600|74.8625|  74.89|74.8625|  74.89| 574000|\n",
      "|20220103| 70700|  74.89| 74.895|  74.89| 74.895|  14000|\n",
      "|20220103| 70800| 74.895| 74.915|  74.89| 74.905| 767000|\n",
      "|20220103| 70900|74.8825|74.8975| 74.865| 74.865|1103000|\n",
      "|20220103| 71000| 74.885|  74.95| 74.885|  74.93|2011000|\n",
      "+--------+------+-------+-------+-------+-------+-------+\n",
      "only showing top 10 rows\n",
      "\n"
     ]
    }
   ],
   "source": [
    "data22.show(10)"
   ]
  },
  {
   "cell_type": "code",
   "execution_count": 5,
   "id": "40b5c169-ad15-4c7f-8ee0-20ddd8ea80d9",
   "metadata": {
    "tags": []
   },
   "outputs": [
    {
     "data": {
      "text/html": [
       "<div>\n",
       "<style scoped>\n",
       "    .dataframe tbody tr th:only-of-type {\n",
       "        vertical-align: middle;\n",
       "    }\n",
       "\n",
       "    .dataframe tbody tr th {\n",
       "        vertical-align: top;\n",
       "    }\n",
       "\n",
       "    .dataframe thead th {\n",
       "        text-align: right;\n",
       "    }\n",
       "</style>\n",
       "<table border=\"1\" class=\"dataframe\">\n",
       "  <thead>\n",
       "    <tr style=\"text-align: right;\">\n",
       "      <th></th>\n",
       "      <th>summary</th>\n",
       "      <th>&lt;DATE&gt;</th>\n",
       "      <th>&lt;TIME&gt;</th>\n",
       "      <th>&lt;OPEN&gt;</th>\n",
       "      <th>&lt;HIGH&gt;</th>\n",
       "      <th>&lt;LOW&gt;</th>\n",
       "      <th>&lt;CLOSE&gt;</th>\n",
       "      <th>&lt;VOL&gt;</th>\n",
       "    </tr>\n",
       "  </thead>\n",
       "  <tbody>\n",
       "    <tr>\n",
       "      <th>0</th>\n",
       "      <td>count</td>\n",
       "      <td>194619</td>\n",
       "      <td>194619</td>\n",
       "      <td>194619</td>\n",
       "      <td>194619</td>\n",
       "      <td>194619</td>\n",
       "      <td>194619</td>\n",
       "      <td>194619</td>\n",
       "    </tr>\n",
       "    <tr>\n",
       "      <th>1</th>\n",
       "      <td>mean</td>\n",
       "      <td>2.0222016135058757E7</td>\n",
       "      <td>139444.36206125814</td>\n",
       "      <td>69.27464305900287</td>\n",
       "      <td>69.30530000924762</td>\n",
       "      <td>69.24701700502102</td>\n",
       "      <td>69.27504194091888</td>\n",
       "      <td>2716198.870613866</td>\n",
       "    </tr>\n",
       "    <tr>\n",
       "      <th>2</th>\n",
       "      <td>stddev</td>\n",
       "      <td>3358.8902809414512</td>\n",
       "      <td>36029.872361950474</td>\n",
       "      <td>11.785004148386559</td>\n",
       "      <td>11.805320739239514</td>\n",
       "      <td>11.771317213486764</td>\n",
       "      <td>11.784747173346558</td>\n",
       "      <td>3786015.5677051907</td>\n",
       "    </tr>\n",
       "    <tr>\n",
       "      <th>3</th>\n",
       "      <td>min</td>\n",
       "      <td>20220103</td>\n",
       "      <td>70100</td>\n",
       "      <td>50.14</td>\n",
       "      <td>50.245</td>\n",
       "      <td>50.0125</td>\n",
       "      <td>50.1325</td>\n",
       "      <td>1000</td>\n",
       "    </tr>\n",
       "    <tr>\n",
       "      <th>4</th>\n",
       "      <td>25%</td>\n",
       "      <td>20220323</td>\n",
       "      <td>112000</td>\n",
       "      <td>60.6</td>\n",
       "      <td>60.6175</td>\n",
       "      <td>60.5875</td>\n",
       "      <td>60.6</td>\n",
       "      <td>531000</td>\n",
       "    </tr>\n",
       "    <tr>\n",
       "      <th>5</th>\n",
       "      <td>50%</td>\n",
       "      <td>20220803</td>\n",
       "      <td>140700</td>\n",
       "      <td>68.14</td>\n",
       "      <td>68.175</td>\n",
       "      <td>68.1125</td>\n",
       "      <td>68.14</td>\n",
       "      <td>1531000</td>\n",
       "    </tr>\n",
       "    <tr>\n",
       "      <th>6</th>\n",
       "      <td>75%</td>\n",
       "      <td>20221121</td>\n",
       "      <td>165300</td>\n",
       "      <td>75.56</td>\n",
       "      <td>75.58</td>\n",
       "      <td>75.5425</td>\n",
       "      <td>75.56</td>\n",
       "      <td>3416000</td>\n",
       "    </tr>\n",
       "    <tr>\n",
       "      <th>7</th>\n",
       "      <td>max</td>\n",
       "      <td>20230228</td>\n",
       "      <td>235000</td>\n",
       "      <td>121.1</td>\n",
       "      <td>121.5275</td>\n",
       "      <td>121.0</td>\n",
       "      <td>121.21</td>\n",
       "      <td>122028000</td>\n",
       "    </tr>\n",
       "  </tbody>\n",
       "</table>\n",
       "</div>"
      ],
      "text/plain": [
       "  summary                <DATE>              <TIME>              <OPEN>              <HIGH>               <LOW>             <CLOSE>               <VOL>\n",
       "0   count                194619              194619              194619              194619              194619              194619              194619\n",
       "1    mean  2.0222016135058757E7  139444.36206125814   69.27464305900287   69.30530000924762   69.24701700502102   69.27504194091888   2716198.870613866\n",
       "2  stddev    3358.8902809414512  36029.872361950474  11.785004148386559  11.805320739239514  11.771317213486764  11.784747173346558  3786015.5677051907\n",
       "3     min              20220103               70100               50.14              50.245             50.0125             50.1325                1000\n",
       "4     25%              20220323              112000                60.6             60.6175             60.5875                60.6              531000\n",
       "5     50%              20220803              140700               68.14              68.175             68.1125               68.14             1531000\n",
       "6     75%              20221121              165300               75.56               75.58             75.5425               75.56             3416000\n",
       "7     max              20230228              235000               121.1            121.5275               121.0              121.21           122028000"
      ]
     },
     "execution_count": 5,
     "metadata": {},
     "output_type": "execute_result"
    }
   ],
   "source": [
    "data22.summary().pandas_api()"
   ]
  },
  {
   "cell_type": "code",
   "execution_count": 6,
   "id": "5803d062-d514-4bc6-bac0-a299fdb0b059",
   "metadata": {
    "tags": []
   },
   "outputs": [
    {
     "name": "stdout",
     "output_type": "stream",
     "text": [
      "+--------+------+-------+-------+--------+-------+---------+\n",
      "|  <DATE>|<TIME>| <OPEN>| <HIGH>|   <LOW>|<CLOSE>|    <VOL>|\n",
      "+--------+------+-------+-------+--------+-------+---------+\n",
      "|20220420|114300|77.3225| 77.475|  71.885| 75.675|122028000|\n",
      "|20220214|154000| 76.715| 76.715|  76.185|76.3575|120135000|\n",
      "|20220124|160000|  78.57|  78.93|   78.51|78.8625|115489000|\n",
      "|20220214|154400|76.0575|   76.1|   75.93|76.0725|100043000|\n",
      "|20220218|161000|75.8375|  76.06| 75.8375| 75.955| 84542000|\n",
      "|20220214|154300|76.2625|   76.3| 76.0175|76.0575| 84020000|\n",
      "|20220221|154500|  78.22|78.5125|   78.22|78.3925| 77397000|\n",
      "|20221019|135200| 61.515| 61.635|   61.41|  61.42| 77189000|\n",
      "|20220303|174200| 110.07|  110.5|109.8275|  110.0| 77032000|\n",
      "|20220221|113600|76.9575|  77.26| 76.9575|77.1925| 75296000|\n",
      "+--------+------+-------+-------+--------+-------+---------+\n",
      "only showing top 10 rows\n",
      "\n"
     ]
    }
   ],
   "source": [
    "data22.where(F.col('<VOL>')<123000000).orderBy(F.col('<VOL>').desc()).show(10)"
   ]
  },
  {
   "cell_type": "code",
   "execution_count": 7,
   "id": "1b175afa-7e0d-4859-86e9-6f3ec53ebf7b",
   "metadata": {
    "tags": []
   },
   "outputs": [
    {
     "name": "stdout",
     "output_type": "stream",
     "text": [
      "+------+------+------+------+-----+-------+-----+\n",
      "|<DATE>|<TIME>|<OPEN>|<HIGH>|<LOW>|<CLOSE>|<VOL>|\n",
      "+------+------+------+------+-----+-------+-----+\n",
      "+------+------+------+------+-----+-------+-----+\n",
      "\n"
     ]
    }
   ],
   "source": [
    "data22.where(F.col('<DATE>')==20220424).orderBy(F.col('<TIME>').desc()).show(5)"
   ]
  },
  {
   "cell_type": "code",
   "execution_count": 8,
   "id": "2cd23202-c2ba-41f4-a241-a61eee92d790",
   "metadata": {
    "tags": []
   },
   "outputs": [
    {
     "name": "stdout",
     "output_type": "stream",
     "text": [
      "+--------+-----+\n",
      "|  <DATE>|Count|\n",
      "+--------+-----+\n",
      "|20220426|  541|\n",
      "|20221215|  715|\n",
      "|20220103| 1006|\n",
      "|20220922|  707|\n",
      "|20230113|  704|\n",
      "|20220207| 1008|\n",
      "|20220701|  541|\n",
      "|20220902|  541|\n",
      "|20220617|  541|\n",
      "|20220805|  541|\n",
      "+--------+-----+\n",
      "only showing top 10 rows\n",
      "\n"
     ]
    },
    {
     "data": {
      "text/plain": [
       "71"
      ]
     },
     "execution_count": 8,
     "metadata": {},
     "output_type": "execute_result"
    }
   ],
   "source": [
    "date22 = (data22\n",
    "    .groupBy('<DATE>')\n",
    "    .agg(F.count('<DATE>').alias('Count'))\n",
    "    #.orderBy(F.col('Count').desc())\n",
    ")\n",
    "date22.show(10)\n",
    "\n",
    "date22.select('Count').distinct().count()"
   ]
  },
  {
   "cell_type": "code",
   "execution_count": 9,
   "id": "e7165d56-f473-4549-9391-f1fdf4d26964",
   "metadata": {
    "tags": []
   },
   "outputs": [
    {
     "data": {
      "text/plain": [
       "292"
      ]
     },
     "execution_count": 9,
     "metadata": {},
     "output_type": "execute_result"
    }
   ],
   "source": [
    "data22.select('<DATE>').distinct().count()"
   ]
  },
  {
   "cell_type": "code",
   "execution_count": 10,
   "id": "042c2c24-d5bb-43fc-bec3-badd64eebf79",
   "metadata": {
    "tags": []
   },
   "outputs": [
    {
     "name": "stdout",
     "output_type": "stream",
     "text": [
      "+--------+------+-------+-------+-------+-------+-------+\n",
      "|  <DATE>|<TIME>| <OPEN>| <HIGH>|  <LOW>|<CLOSE>|  <VOL>|\n",
      "+--------+------+-------+-------+-------+-------+-------+\n",
      "|20220426|190000|73.2325| 73.525|  73.23| 73.525|6611000|\n",
      "|20220426|185900|73.1825|73.2475|73.1825|  73.23|1776000|\n",
      "|20220426|185800|  73.14|73.1825|  73.13|73.1825|3747000|\n",
      "|20220426|185700|73.1175|73.1475|73.1175|  73.14|1166000|\n",
      "|20220426|185600|  73.09|73.1175|  73.09|73.1175| 855000|\n",
      "+--------+------+-------+-------+-------+-------+-------+\n",
      "only showing top 5 rows\n",
      "\n",
      "+--------+------+-------+------+-------+-------+--------+\n",
      "|  <DATE>|<TIME>| <OPEN>|<HIGH>|  <LOW>|<CLOSE>|   <VOL>|\n",
      "+--------+------+-------+------+-------+-------+--------+\n",
      "|20220426|100000| 73.125|73.125| 73.125| 73.125|   98000|\n",
      "|20220426|100100|  73.12|73.125| 72.225|72.4675|10365000|\n",
      "|20220426|100200|  72.43| 72.49|  72.06|   72.3|12502000|\n",
      "|20220426|100300|   72.3|72.815|  72.26| 72.535|16887000|\n",
      "|20220426|100400|72.5275|72.535|72.2975| 72.365|16332000|\n",
      "+--------+------+-------+------+-------+-------+--------+\n",
      "only showing top 5 rows\n",
      "\n"
     ]
    }
   ],
   "source": [
    "data22.where(F.col('<DATE>')==20220426).orderBy(F.col('<TIME>').desc()).show(5)\n",
    "data22.where(F.col('<DATE>')==20220426).orderBy(F.col('<TIME>').asc()).show(5)"
   ]
  },
  {
   "cell_type": "code",
   "execution_count": 11,
   "id": "3156aacc-183c-410e-a1c7-502249a786f6",
   "metadata": {
    "tags": []
   },
   "outputs": [
    {
     "name": "stdout",
     "output_type": "stream",
     "text": [
      "+--------+------+-------+-------+-------+-------+------+\n",
      "|  <DATE>|<TIME>| <OPEN>| <HIGH>|  <LOW>|<CLOSE>| <VOL>|\n",
      "+--------+------+-------+-------+-------+-------+------+\n",
      "|20220103|235000| 74.555|  74.56|74.5425|74.5425|652000|\n",
      "|20220103|234900|  74.55|  74.56|  74.55|74.5525|236000|\n",
      "|20220103|234800|  74.56|74.5625|  74.55|74.5625|391000|\n",
      "|20220103|234700|74.5475|  74.56|74.5475|74.5475|203000|\n",
      "|20220103|234600| 74.545|  74.55| 74.545|74.5475|122000|\n",
      "+--------+------+-------+-------+-------+-------+------+\n",
      "only showing top 5 rows\n",
      "\n",
      "+--------+------+-------+-------+-------+-------+-------+\n",
      "|  <DATE>|<TIME>| <OPEN>| <HIGH>|  <LOW>|<CLOSE>|  <VOL>|\n",
      "+--------+------+-------+-------+-------+-------+-------+\n",
      "|20220103| 70100|74.6775|74.8375|74.6625|  74.79|2429000|\n",
      "|20220103| 70200|  74.81|  74.81| 74.755|74.7875| 876000|\n",
      "|20220103| 70300|74.7875| 74.875|74.7875| 74.875|1592000|\n",
      "|20220103| 70400|74.8475|74.8625|74.8425|74.8475|1208000|\n",
      "|20220103| 70500|74.8425| 74.875|74.8275|74.8575| 426000|\n",
      "+--------+------+-------+-------+-------+-------+-------+\n",
      "only showing top 5 rows\n",
      "\n"
     ]
    }
   ],
   "source": [
    "data22.where(F.col('<DATE>')==20220103).orderBy(F.col('<TIME>').desc()).show(5)\n",
    "data22.where(F.col('<DATE>')==20220103).orderBy(F.col('<TIME>').asc()).show(5)"
   ]
  },
  {
   "cell_type": "code",
   "execution_count": 12,
   "id": "d271d29e-3052-4e63-9b61-11a2f562d5f3",
   "metadata": {
    "tags": []
   },
   "outputs": [
    {
     "name": "stdout",
     "output_type": "stream",
     "text": [
      "root\n",
      " |-- <TICKER>: string (nullable = true)\n",
      " |-- <PER>: integer (nullable = true)\n",
      " |-- <DATE>: integer (nullable = true)\n",
      " |-- <TIME>: integer (nullable = true)\n",
      " |-- <OPEN>: double (nullable = true)\n",
      " |-- <HIGH>: double (nullable = true)\n",
      " |-- <LOW>: double (nullable = true)\n",
      " |-- <CLOSE>: double (nullable = true)\n",
      " |-- <VOL>: integer (nullable = true)\n",
      "\n"
     ]
    }
   ],
   "source": [
    "data23 = spark.read.csv(\".//archive/minute_230301_231108.csv\", sep=';', encoding=\"UTF-8\", header=True, inferSchema=True)\n",
    "data23.printSchema()"
   ]
  },
  {
   "cell_type": "code",
   "execution_count": 13,
   "id": "835fbe41-161b-4fdd-915c-639538f865a2",
   "metadata": {
    "tags": []
   },
   "outputs": [
    {
     "name": "stdout",
     "output_type": "stream",
     "text": [
      "root\n",
      " |-- <DATE>: integer (nullable = true)\n",
      " |-- <TIME>: integer (nullable = true)\n",
      " |-- <OPEN>: double (nullable = true)\n",
      " |-- <HIGH>: double (nullable = true)\n",
      " |-- <LOW>: double (nullable = true)\n",
      " |-- <CLOSE>: double (nullable = true)\n",
      " |-- <VOL>: integer (nullable = true)\n",
      "\n",
      "+--------+------+-------+-------+-------+-------+-------+\n",
      "|  <DATE>|<TIME>| <OPEN>| <HIGH>|  <LOW>|<CLOSE>|  <VOL>|\n",
      "+--------+------+-------+-------+-------+-------+-------+\n",
      "|20230103| 70100|   70.8|70.9425|   70.0|70.8575|1259000|\n",
      "|20230103| 70200|70.8475|70.8475|70.5125|70.7675| 631000|\n",
      "|20230103| 70300| 70.565| 70.585| 70.515| 70.515|  97000|\n",
      "|20230103| 70400| 70.515|70.7175| 70.515|70.6675|  64000|\n",
      "|20230103| 70500|  70.62|  70.62|  70.54|70.5875|  22000|\n",
      "|20230103| 70600| 70.535|  70.69| 70.535|70.5725| 202000|\n",
      "|20230103| 70700| 70.665|70.6675|   70.6|70.6675|  57000|\n",
      "|20230103| 70800|70.6025|70.6875|   70.6|   70.6| 210000|\n",
      "|20230103| 70900|   70.6|   70.6|  70.52|  70.52|  17000|\n",
      "|20230103| 71000|70.5575| 70.645| 70.535| 70.645|  97000|\n",
      "+--------+------+-------+-------+-------+-------+-------+\n",
      "only showing top 10 rows\n",
      "\n"
     ]
    }
   ],
   "source": [
    "data23 = data23.drop('<PER>', '<TICKER>')\n",
    "data23.printSchema()\n",
    "data23.show(10)"
   ]
  },
  {
   "cell_type": "code",
   "execution_count": 14,
   "id": "3815edf5-1c13-480d-8886-17bc94a044f9",
   "metadata": {
    "tags": []
   },
   "outputs": [
    {
     "data": {
      "text/html": [
       "<div>\n",
       "<style scoped>\n",
       "    .dataframe tbody tr th:only-of-type {\n",
       "        vertical-align: middle;\n",
       "    }\n",
       "\n",
       "    .dataframe tbody tr th {\n",
       "        vertical-align: top;\n",
       "    }\n",
       "\n",
       "    .dataframe thead th {\n",
       "        text-align: right;\n",
       "    }\n",
       "</style>\n",
       "<table border=\"1\" class=\"dataframe\">\n",
       "  <thead>\n",
       "    <tr style=\"text-align: right;\">\n",
       "      <th></th>\n",
       "      <th>summary</th>\n",
       "      <th>&lt;DATE&gt;</th>\n",
       "      <th>&lt;TIME&gt;</th>\n",
       "      <th>&lt;OPEN&gt;</th>\n",
       "      <th>&lt;HIGH&gt;</th>\n",
       "      <th>&lt;LOW&gt;</th>\n",
       "      <th>&lt;CLOSE&gt;</th>\n",
       "      <th>&lt;VOL&gt;</th>\n",
       "    </tr>\n",
       "  </thead>\n",
       "  <tbody>\n",
       "    <tr>\n",
       "      <th>0</th>\n",
       "      <td>count</td>\n",
       "      <td>149912</td>\n",
       "      <td>149912</td>\n",
       "      <td>149912</td>\n",
       "      <td>149912</td>\n",
       "      <td>149912</td>\n",
       "      <td>149912</td>\n",
       "      <td>149912</td>\n",
       "    </tr>\n",
       "    <tr>\n",
       "      <th>1</th>\n",
       "      <td>mean</td>\n",
       "      <td>2.023058680553925E7</td>\n",
       "      <td>130044.75892523614</td>\n",
       "      <td>84.73647846736571</td>\n",
       "      <td>84.75315646846016</td>\n",
       "      <td>84.72096484937829</td>\n",
       "      <td>84.73711667511606</td>\n",
       "      <td>1498470.5026949144</td>\n",
       "    </tr>\n",
       "    <tr>\n",
       "      <th>2</th>\n",
       "      <td>stddev</td>\n",
       "      <td>296.73865757754123</td>\n",
       "      <td>33769.16969853376</td>\n",
       "      <td>9.718493270762863</td>\n",
       "      <td>9.721185372542067</td>\n",
       "      <td>9.7160694764142</td>\n",
       "      <td>9.718580233836937</td>\n",
       "      <td>2158623.1220761454</td>\n",
       "    </tr>\n",
       "    <tr>\n",
       "      <th>3</th>\n",
       "      <td>min</td>\n",
       "      <td>20230103</td>\n",
       "      <td>70100</td>\n",
       "      <td>67.0975</td>\n",
       "      <td>67.17</td>\n",
       "      <td>67.0875</td>\n",
       "      <td>67.0975</td>\n",
       "      <td>1000</td>\n",
       "    </tr>\n",
       "    <tr>\n",
       "      <th>4</th>\n",
       "      <td>25%</td>\n",
       "      <td>20230321</td>\n",
       "      <td>102100</td>\n",
       "      <td>76.5325</td>\n",
       "      <td>76.545</td>\n",
       "      <td>76.52</td>\n",
       "      <td>76.535</td>\n",
       "      <td>290000</td>\n",
       "    </tr>\n",
       "    <tr>\n",
       "      <th>5</th>\n",
       "      <td>50%</td>\n",
       "      <td>20230608</td>\n",
       "      <td>131400</td>\n",
       "      <td>82.4125</td>\n",
       "      <td>82.4225</td>\n",
       "      <td>82.3925</td>\n",
       "      <td>82.4075</td>\n",
       "      <td>859000</td>\n",
       "    </tr>\n",
       "    <tr>\n",
       "      <th>6</th>\n",
       "      <td>75%</td>\n",
       "      <td>20230824</td>\n",
       "      <td>160700</td>\n",
       "      <td>94.125</td>\n",
       "      <td>94.15</td>\n",
       "      <td>94.11</td>\n",
       "      <td>94.1275</td>\n",
       "      <td>1884000</td>\n",
       "    </tr>\n",
       "    <tr>\n",
       "      <th>7</th>\n",
       "      <td>max</td>\n",
       "      <td>20231108</td>\n",
       "      <td>190000</td>\n",
       "      <td>102.2925</td>\n",
       "      <td>102.345</td>\n",
       "      <td>102.225</td>\n",
       "      <td>102.3125</td>\n",
       "      <td>135243000</td>\n",
       "    </tr>\n",
       "  </tbody>\n",
       "</table>\n",
       "</div>"
      ],
      "text/plain": [
       "  summary               <DATE>              <TIME>             <OPEN>             <HIGH>              <LOW>            <CLOSE>               <VOL>\n",
       "0   count               149912              149912             149912             149912             149912             149912              149912\n",
       "1    mean  2.023058680553925E7  130044.75892523614  84.73647846736571  84.75315646846016  84.72096484937829  84.73711667511606  1498470.5026949144\n",
       "2  stddev   296.73865757754123   33769.16969853376  9.718493270762863  9.721185372542067    9.7160694764142  9.718580233836937  2158623.1220761454\n",
       "3     min             20230103               70100            67.0975              67.17            67.0875            67.0975                1000\n",
       "4     25%             20230321              102100            76.5325             76.545              76.52             76.535              290000\n",
       "5     50%             20230608              131400            82.4125            82.4225            82.3925            82.4075              859000\n",
       "6     75%             20230824              160700             94.125              94.15              94.11            94.1275             1884000\n",
       "7     max             20231108              190000           102.2925            102.345            102.225           102.3125           135243000"
      ]
     },
     "execution_count": 14,
     "metadata": {},
     "output_type": "execute_result"
    }
   ],
   "source": [
    "data23.summary().pandas_api()"
   ]
  },
  {
   "cell_type": "code",
   "execution_count": 15,
   "id": "e0d5b977-1742-4ae8-aa6f-1e7bc0cbe2d0",
   "metadata": {
    "tags": []
   },
   "outputs": [
    {
     "name": "stdout",
     "output_type": "stream",
     "text": [
      "+--------+------+-------+-------+-------+-------+---------+\n",
      "|  <DATE>|<TIME>| <OPEN>| <HIGH>|  <LOW>|<CLOSE>|    <VOL>|\n",
      "+--------+------+-------+-------+-------+-------+---------+\n",
      "|20230316|122600| 76.205| 77.315| 76.205|   77.3|135243000|\n",
      "|20230316|123000|  76.58|  76.64|   76.0|  76.17|106379000|\n",
      "|20230825|173100|  95.41|95.4525|95.2275|  95.29|100977000|\n",
      "|20230316|122700| 77.325|  77.49|77.0575|77.1375| 71010000|\n",
      "|20230404|151100| 79.255|  79.26| 79.095|  79.11| 62870000|\n",
      "|20230406|115600|80.4575|80.5025|80.4575|   80.5| 58359000|\n",
      "|20230316|122900|76.9075| 76.915|76.5225|76.5925| 58287000|\n",
      "|20230524|160100|  80.11|80.2075|  80.11|80.1925| 49317000|\n",
      "|20230316|122800|77.1375|  77.15|76.8925|76.8925| 46315000|\n",
      "|20231103|110100|93.1275|93.1275|  92.45| 92.685| 43350000|\n",
      "+--------+------+-------+-------+-------+-------+---------+\n",
      "only showing top 10 rows\n",
      "\n"
     ]
    }
   ],
   "source": [
    "data23.where(F.col('<VOL>')<140000000).orderBy(F.col('<VOL>').desc()).show(10) #посмотреть не выброс ли по столбцу объема оборота"
   ]
  },
  {
   "cell_type": "code",
   "execution_count": 16,
   "id": "a5e0a655-0520-4f71-85ac-348351676cc1",
   "metadata": {
    "tags": []
   },
   "outputs": [
    {
     "name": "stdout",
     "output_type": "stream",
     "text": [
      "+--------+-----+\n",
      "|  <DATE>|Count|\n",
      "+--------+-----+\n",
      "|20230530|  700|\n",
      "|20230113|  704|\n",
      "|20230925|  679|\n",
      "|20230626|  720|\n",
      "|20230111|  699|\n",
      "|20230301|  690|\n",
      "|20230310|  678|\n",
      "|20230105|  673|\n",
      "|20230825|  682|\n",
      "|20231103|  701|\n",
      "+--------+-----+\n",
      "only showing top 10 rows\n",
      "\n"
     ]
    },
    {
     "data": {
      "text/plain": [
       "58"
      ]
     },
     "execution_count": 16,
     "metadata": {},
     "output_type": "execute_result"
    }
   ],
   "source": [
    "date23 = (data23\n",
    "    .groupBy('<DATE>')\n",
    "    .agg(F.count('<DATE>').alias('Count'))\n",
    "    #.orderBy(F.col('Count').desc())\n",
    ")\n",
    "date23.show(10)\n",
    "\n",
    "date23.select('Count').distinct().count() #число количества уникальных точек в день"
   ]
  },
  {
   "cell_type": "code",
   "execution_count": 17,
   "id": "3e254188-8f63-4bdd-b1b6-57debb8e6da9",
   "metadata": {
    "tags": []
   },
   "outputs": [
    {
     "data": {
      "text/plain": [
       "217"
      ]
     },
     "execution_count": 17,
     "metadata": {},
     "output_type": "execute_result"
    }
   ],
   "source": [
    "data23.select('<DATE>').distinct().count() #уникальных дней"
   ]
  }
 ],
 "metadata": {
  "kernelspec": {
   "display_name": "Python 3 (ipykernel)",
   "language": "python",
   "name": "python3"
  },
  "language_info": {
   "codemirror_mode": {
    "name": "ipython",
    "version": 3
   },
   "file_extension": ".py",
   "mimetype": "text/x-python",
   "name": "python",
   "nbconvert_exporter": "python",
   "pygments_lexer": "ipython3",
   "version": "3.8.18"
  }
 },
 "nbformat": 4,
 "nbformat_minor": 5
}
